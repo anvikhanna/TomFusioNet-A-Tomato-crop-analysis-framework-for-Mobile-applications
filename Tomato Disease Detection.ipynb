{
 "cells": [
  {
   "cell_type": "code",
   "execution_count": 2,
   "id": "empty-concentrate",
   "metadata": {},
   "outputs": [],
   "source": [
    "import tensorflow as tf\n",
    "from tensorflow.keras.preprocessing.image import ImageDataGenerator\n",
    "from tensorflow.keras.optimizers import Adam\n",
    "from tensorflow.keras.preprocessing import image\n",
    "import numpy as np\n",
    "import os\n",
    "import random\n",
    "from shutil import copyfile\n",
    "import matplotlib.image  as mpimg\n",
    "import matplotlib.pyplot as plt"
   ]
  },
  {
   "cell_type": "code",
   "execution_count": 13,
   "id": "early-linux",
   "metadata": {},
   "outputs": [
    {
     "name": "stdout",
     "output_type": "stream",
     "text": [
      "leaf_disease created\n",
      "leaf_disease/training created\n",
      "leaf_disease/testing created\n",
      "leaf_disease/training/Tomato_Bacterial_spot created\n",
      "leaf_disease/training/Tomato_Late_blight created\n",
      "leaf_disease/training/Tomato_Early_blight created\n",
      "leaf_disease/training/Tomato_healthy created\n",
      "leaf_disease/training/Tomato_Yellow_Leaf_Curl_Virus created\n",
      "leaf_disease/training/Tomato_Leaf_Mold created\n",
      "leaf_disease/testing/Tomato_Bacterial_spot created\n",
      "leaf_disease/testing/Tomato_Late_blight created\n",
      "leaf_disease/testing/Tomato_Early_blight created\n",
      "leaf_disease/testing/Tomato_healthy created\n",
      "leaf_disease/testing/Tomato_Yellow_Leaf_Curl_Virus created\n",
      "leaf_disease/testing/Tomato_Leaf_Mold created\n"
     ]
    }
   ],
   "source": [
    "to_create = [\n",
    "    'leaf_disease',\n",
    "    'leaf_disease/training',\n",
    "    'leaf_disease/testing',\n",
    "    'leaf_disease/training/Tomato_Bacterial_spot',\n",
    "    'leaf_disease/training/Tomato_Late_blight',\n",
    "    'leaf_disease/training/Tomato_Early_blight',\n",
    "    'leaf_disease/training/Tomato_healthy',\n",
    "    'leaf_disease/training/Tomato_Yellow_Leaf_Curl_Virus',\n",
    "    'leaf_disease/training/Tomato_Leaf_Mold',\n",
    "    'leaf_disease/testing/Tomato_Bacterial_spot',\n",
    "    'leaf_disease/testing/Tomato_Late_blight',\n",
    "    'leaf_disease/testing/Tomato_Early_blight',\n",
    "    'leaf_disease/testing/Tomato_healthy',\n",
    "    'leaf_disease/testing/Tomato_Yellow_Leaf_Curl_Virus',\n",
    "    'leaf_disease/testing/Tomato_Leaf_Mold'\n",
    "\n",
    "]\n",
    "for directory in to_create:\n",
    "    try:\n",
    "        os.mkdir(directory)\n",
    "        print(directory, 'created')\n",
    "    except:\n",
    "        print(directory, 'failed')"
   ]
  },
  {
   "cell_type": "code",
   "execution_count": 14,
   "id": "exciting-values",
   "metadata": {},
   "outputs": [],
   "source": [
    "def split_data(SOURCE, TRAINING, TESTING, SPLIT_SIZE):\n",
    "    all_files = []\n",
    "    \n",
    "    for file_name in os.listdir(SOURCE):\n",
    "        file_path = SOURCE + file_name\n",
    "\n",
    "        if os.path.getsize(file_path):\n",
    "            all_files.append(file_name)\n",
    "        else:\n",
    "            print('{} is zero length, so ignoring'.format(file_name))\n",
    "    \n",
    "    n_files = len(all_files)\n",
    "    split_point = int(n_files * SPLIT_SIZE)\n",
    "    \n",
    "    shuffled = random.sample(all_files, n_files)\n",
    "    \n",
    "    train_set = shuffled[:split_point]\n",
    "    test_set = shuffled[split_point:]\n",
    "    \n",
    "    for file_name in train_set:\n",
    "        copyfile(SOURCE + file_name, TRAINING + file_name)\n",
    "        \n",
    "    for file_name in test_set:\n",
    "        copyfile(SOURCE + file_name, TESTING + file_name)"
   ]
  },
  {
   "cell_type": "code",
   "execution_count": 15,
   "id": "literary-juvenile",
   "metadata": {},
   "outputs": [],
   "source": [
    "SOURCE_DIR = \"Tomato/Tomato_Late_blight/\"\n",
    "TRAINING_DIR = \"leaf_disease/training/Tomato_Late_blight/\"\n",
    "TESTING_DIR =\"leaf_disease/testing/Tomato_Late_blight/\"\n",
    "\n",
    "split_size = .8\n",
    "split_data(SOURCE_DIR, TRAINING_DIR, TESTING_DIR, split_size)"
   ]
  },
  {
   "cell_type": "code",
   "execution_count": 16,
   "id": "still-skill",
   "metadata": {},
   "outputs": [],
   "source": [
    "SOURCE_DIR = \"Tomato/Tomato_Bacterial_spot/\"\n",
    "TRAINING_DIR = \"leaf_disease/training/Tomato_Bacterial_spot/\"\n",
    "TESTING_DIR =\"leaf_disease/testing/Tomato_Bacterial_spot/\"\n",
    "\n",
    "split_size = .8\n",
    "split_data(SOURCE_DIR, TRAINING_DIR, TESTING_DIR, split_size)"
   ]
  },
  {
   "cell_type": "code",
   "execution_count": 17,
   "id": "smooth-negotiation",
   "metadata": {},
   "outputs": [],
   "source": [
    "SOURCE_DIR = \"Tomato/Tomato_Early_blight/\"\n",
    "TRAINING_DIR = \"leaf_disease/training/Tomato_Early_blight/\"\n",
    "TESTING_DIR =\"leaf_disease/testing/Tomato_Early_blight/\"\n",
    "\n",
    "split_size = .8\n",
    "split_data(SOURCE_DIR, TRAINING_DIR, TESTING_DIR, split_size)"
   ]
  },
  {
   "cell_type": "code",
   "execution_count": 18,
   "id": "geographic-might",
   "metadata": {},
   "outputs": [],
   "source": [
    "SOURCE_DIR = \"Tomato/Tomato_healthy/\"\n",
    "TRAINING_DIR = \"leaf_disease/training/Tomato_healthy/\"\n",
    "TESTING_DIR =\"leaf_disease/testing/Tomato_healthy/\"\n",
    "\n",
    "split_size = .8\n",
    "split_data(SOURCE_DIR, TRAINING_DIR, TESTING_DIR, split_size)"
   ]
  },
  {
   "cell_type": "code",
   "execution_count": 19,
   "id": "fixed-dietary",
   "metadata": {},
   "outputs": [],
   "source": [
    "SOURCE_DIR = \"Tomato/Tomato_Yellow_Leaf_Curl_Virus/\"\n",
    "TRAINING_DIR = \"leaf_disease/training/Tomato_Yellow_Leaf_Curl_Virus/\"\n",
    "TESTING_DIR =\"leaf_disease/testing/Tomato_Yellow_Leaf_Curl_Virus/\"\n",
    "\n",
    "split_size = .8\n",
    "split_data(SOURCE_DIR, TRAINING_DIR, TESTING_DIR, split_size)"
   ]
  },
  {
   "cell_type": "code",
   "execution_count": 22,
   "id": "ancient-consumption",
   "metadata": {},
   "outputs": [],
   "source": [
    "SOURCE_DIR = \"Tomato/Tomato_Leaf_Mold/\"\n",
    "TRAINING_DIR = \"leaf_disease/training/Tomato_Leaf_Mold/\"\n",
    "TESTING_DIR =\"leaf_disease/testing/Tomato_Leaf_Mold/\"\n",
    "\n",
    "split_size = .8\n",
    "split_data(SOURCE_DIR, TRAINING_DIR, TESTING_DIR, split_size)"
   ]
  },
  {
   "cell_type": "code",
   "execution_count": 3,
   "id": "recognized-hollywood",
   "metadata": {},
   "outputs": [
    {
     "name": "stdout",
     "output_type": "stream",
     "text": [
      "Found 10346 images belonging to 6 classes.\n",
      "Found 2590 images belonging to 6 classes.\n"
     ]
    }
   ],
   "source": [
    "training_dir = 'leaf_disease/training'\n",
    "validation_dir = 'leaf_disease/testing'\n",
    "\n",
    "train_datagen = ImageDataGenerator(rescale=1./255,\n",
    "      rotation_range=40,\n",
    "      width_shift_range=0.2,\n",
    "      height_shift_range=0.2,\n",
    "      zoom_range=0.2,\n",
    "      horizontal_flip=True,\n",
    "     )\n",
    "\n",
    "train_generator = train_datagen.flow_from_directory(\n",
    "        training_dir,  \n",
    "        target_size=(256, 256),  \n",
    "        batch_size=128,\n",
    "        class_mode='categorical')\n",
    "\n",
    "test_datagen = ImageDataGenerator(rescale=1./255)\n",
    "\n",
    "validation_generator = test_datagen.flow_from_directory(\n",
    "        validation_dir,\n",
    "        target_size=(256, 256),\n",
    "        batch_size=128,\n",
    "        class_mode='categorical')"
   ]
  },
  {
   "cell_type": "code",
   "execution_count": 4,
   "id": "weekly-enlargement",
   "metadata": {},
   "outputs": [],
   "source": [
    "model = tf.keras.models.Sequential([\n",
    "    tf.keras.layers.Conv2D(16, (3,3), activation='relu', input_shape=(256, 256, 3)),\n",
    "    tf.keras.layers.MaxPooling2D(2, 2),\n",
    "    \n",
    "    tf.keras.layers.Conv2D(32, (3,3), activation='relu'),\n",
    "    tf.keras.layers.MaxPooling2D(2,2),\n",
    "    \n",
    "    tf.keras.layers.Conv2D(32, (3,3), activation='relu'),\n",
    "    tf.keras.layers.MaxPooling2D(2,2),\n",
    "    \n",
    "    tf.keras.layers.Conv2D(64, (3,3), activation='relu'),\n",
    "    tf.keras.layers.MaxPooling2D(2,2),\n",
    "    \n",
    "    tf.keras.layers.Conv2D(64, (3,3), activation='relu'),\n",
    "    tf.keras.layers.MaxPooling2D(2,2),\n",
    "    \n",
    "    tf.keras.layers.Flatten(),\n",
    "    tf.keras.layers.Dense(512, activation='relu'),\n",
    "    tf.keras.layers.Dropout(0.2),\n",
    "    tf.keras.layers.Dense(6, activation='softmax')\n",
    "])"
   ]
  },
  {
   "cell_type": "code",
   "execution_count": 5,
   "id": "considered-census",
   "metadata": {},
   "outputs": [
    {
     "name": "stdout",
     "output_type": "stream",
     "text": [
      "Model: \"sequential\"\n",
      "_________________________________________________________________\n",
      "Layer (type)                 Output Shape              Param #   \n",
      "=================================================================\n",
      "conv2d (Conv2D)              (None, 254, 254, 16)      448       \n",
      "_________________________________________________________________\n",
      "max_pooling2d (MaxPooling2D) (None, 127, 127, 16)      0         \n",
      "_________________________________________________________________\n",
      "conv2d_1 (Conv2D)            (None, 125, 125, 32)      4640      \n",
      "_________________________________________________________________\n",
      "max_pooling2d_1 (MaxPooling2 (None, 62, 62, 32)        0         \n",
      "_________________________________________________________________\n",
      "conv2d_2 (Conv2D)            (None, 60, 60, 32)        9248      \n",
      "_________________________________________________________________\n",
      "max_pooling2d_2 (MaxPooling2 (None, 30, 30, 32)        0         \n",
      "_________________________________________________________________\n",
      "conv2d_3 (Conv2D)            (None, 28, 28, 64)        18496     \n",
      "_________________________________________________________________\n",
      "max_pooling2d_3 (MaxPooling2 (None, 14, 14, 64)        0         \n",
      "_________________________________________________________________\n",
      "conv2d_4 (Conv2D)            (None, 12, 12, 64)        36928     \n",
      "_________________________________________________________________\n",
      "max_pooling2d_4 (MaxPooling2 (None, 6, 6, 64)          0         \n",
      "_________________________________________________________________\n",
      "flatten (Flatten)            (None, 2304)              0         \n",
      "_________________________________________________________________\n",
      "dense (Dense)                (None, 512)               1180160   \n",
      "_________________________________________________________________\n",
      "dropout (Dropout)            (None, 512)               0         \n",
      "_________________________________________________________________\n",
      "dense_1 (Dense)              (None, 6)                 3078      \n",
      "=================================================================\n",
      "Total params: 1,252,998\n",
      "Trainable params: 1,252,998\n",
      "Non-trainable params: 0\n",
      "_________________________________________________________________\n"
     ]
    }
   ],
   "source": [
    "model.summary()"
   ]
  },
  {
   "cell_type": "code",
   "execution_count": 11,
   "id": "charming-celebration",
   "metadata": {},
   "outputs": [],
   "source": [
    "model.compile(optimizer=Adam(),\n",
    "              loss='categorical_crossentropy',\n",
    "              metrics=['accuracy'])"
   ]
  },
  {
   "cell_type": "code",
   "execution_count": 28,
   "id": "operational-antenna",
   "metadata": {},
   "outputs": [
    {
     "name": "stdout",
     "output_type": "stream",
     "text": [
      "Epoch 1/50\n",
      "68/68 [==============================] - 72s 1s/step - loss: 1.4170 - accuracy: 0.4620 - val_loss: 0.8450 - val_accuracy: 0.6985\n",
      "Epoch 2/50\n",
      "68/68 [==============================] - 71s 1s/step - loss: 0.9010 - accuracy: 0.6789 - val_loss: 0.6059 - val_accuracy: 0.7822\n",
      "Epoch 3/50\n",
      "68/68 [==============================] - 71s 1s/step - loss: 0.6514 - accuracy: 0.7687 - val_loss: 0.5074 - val_accuracy: 0.8107\n",
      "Epoch 4/50\n",
      "68/68 [==============================] - 73s 1s/step - loss: 0.5223 - accuracy: 0.8120 - val_loss: 0.7347 - val_accuracy: 0.7937\n",
      "Epoch 5/50\n",
      "68/68 [==============================] - 74s 1s/step - loss: 0.4554 - accuracy: 0.8390 - val_loss: 0.3798 - val_accuracy: 0.8644\n",
      "Epoch 6/50\n",
      "68/68 [==============================] - 71s 1s/step - loss: 0.3666 - accuracy: 0.8674 - val_loss: 0.4425 - val_accuracy: 0.8699\n",
      "Epoch 7/50\n",
      "68/68 [==============================] - 72s 1s/step - loss: 0.3147 - accuracy: 0.8883 - val_loss: 0.4011 - val_accuracy: 0.8732\n",
      "Epoch 8/50\n",
      "68/68 [==============================] - 71s 1s/step - loss: 0.3384 - accuracy: 0.8773 - val_loss: 0.6462 - val_accuracy: 0.8212\n",
      "Epoch 9/50\n",
      "68/68 [==============================] - 71s 1s/step - loss: 0.2714 - accuracy: 0.9007 - val_loss: 0.2963 - val_accuracy: 0.8989\n",
      "Epoch 10/50\n",
      "68/68 [==============================] - 91s 1s/step - loss: 0.2486 - accuracy: 0.9107 - val_loss: 0.4135 - val_accuracy: 0.8768\n",
      "Epoch 11/50\n",
      "68/68 [==============================] - 72s 1s/step - loss: 0.2690 - accuracy: 0.9017 - val_loss: 0.3319 - val_accuracy: 0.9136\n",
      "Epoch 12/50\n",
      "68/68 [==============================] - 71s 1s/step - loss: 0.2132 - accuracy: 0.9286 - val_loss: 0.1980 - val_accuracy: 0.9384\n",
      "Epoch 13/50\n",
      "68/68 [==============================] - 72s 1s/step - loss: 0.2169 - accuracy: 0.9227 - val_loss: 0.2241 - val_accuracy: 0.9200\n",
      "Epoch 14/50\n",
      "68/68 [==============================] - 72s 1s/step - loss: 0.1886 - accuracy: 0.9295 - val_loss: 0.5080 - val_accuracy: 0.8603\n",
      "Epoch 15/50\n",
      "68/68 [==============================] - 73s 1s/step - loss: 0.2167 - accuracy: 0.9219 - val_loss: 0.2219 - val_accuracy: 0.9311\n",
      "Epoch 16/50\n",
      "68/68 [==============================] - 72s 1s/step - loss: 0.1823 - accuracy: 0.9363 - val_loss: 0.2427 - val_accuracy: 0.9278\n",
      "Epoch 17/50\n",
      "68/68 [==============================] - 73s 1s/step - loss: 0.1572 - accuracy: 0.9455 - val_loss: 0.1996 - val_accuracy: 0.9472\n",
      "Epoch 18/50\n",
      "68/68 [==============================] - 72s 1s/step - loss: 0.1945 - accuracy: 0.9320 - val_loss: 0.2529 - val_accuracy: 0.9233\n",
      "Epoch 19/50\n",
      "68/68 [==============================] - 74s 1s/step - loss: 0.1380 - accuracy: 0.9516 - val_loss: 0.4985 - val_accuracy: 0.8888\n",
      "Epoch 20/50\n",
      "68/68 [==============================] - 73s 1s/step - loss: 0.1447 - accuracy: 0.9487 - val_loss: 0.6354 - val_accuracy: 0.8465\n",
      "Epoch 21/50\n",
      "68/68 [==============================] - 72s 1s/step - loss: 0.1645 - accuracy: 0.9419 - val_loss: 0.3279 - val_accuracy: 0.9099\n",
      "Epoch 22/50\n",
      "68/68 [==============================] - 72s 1s/step - loss: 0.1393 - accuracy: 0.9546 - val_loss: 0.1892 - val_accuracy: 0.9600\n",
      "Epoch 23/50\n",
      "68/68 [==============================] - 72s 1s/step - loss: 0.1204 - accuracy: 0.9582 - val_loss: 0.2053 - val_accuracy: 0.9407\n",
      "Epoch 24/50\n",
      "68/68 [==============================] - 221s 3s/step - loss: 0.1360 - accuracy: 0.9497 - val_loss: 0.2187 - val_accuracy: 0.9439\n",
      "Epoch 25/50\n",
      "68/68 [==============================] - 72s 1s/step - loss: 0.1350 - accuracy: 0.9520 - val_loss: 0.1327 - val_accuracy: 0.9710\n",
      "Epoch 26/50\n",
      "68/68 [==============================] - 72s 1s/step - loss: 0.0998 - accuracy: 0.9621 - val_loss: 0.3747 - val_accuracy: 0.9145\n",
      "Epoch 27/50\n",
      "68/68 [==============================] - 304s 5s/step - loss: 0.1112 - accuracy: 0.9625 - val_loss: 0.3705 - val_accuracy: 0.9090\n",
      "Epoch 28/50\n",
      "68/68 [==============================] - 72s 1s/step - loss: 0.1055 - accuracy: 0.9623 - val_loss: 0.4909 - val_accuracy: 0.8934\n",
      "Epoch 29/50\n",
      "68/68 [==============================] - 73s 1s/step - loss: 0.1053 - accuracy: 0.9636 - val_loss: 0.1503 - val_accuracy: 0.9522\n",
      "Epoch 30/50\n",
      "68/68 [==============================] - 71s 1s/step - loss: 0.0910 - accuracy: 0.9681 - val_loss: 0.1508 - val_accuracy: 0.9623\n",
      "Epoch 31/50\n",
      "68/68 [==============================] - 71s 1s/step - loss: 0.0786 - accuracy: 0.9717 - val_loss: 0.1258 - val_accuracy: 0.9784\n",
      "Epoch 32/50\n",
      "68/68 [==============================] - 71s 1s/step - loss: 0.0714 - accuracy: 0.9745 - val_loss: 0.1743 - val_accuracy: 0.9412\n",
      "Epoch 33/50\n",
      "68/68 [==============================] - 71s 1s/step - loss: 0.1162 - accuracy: 0.9581 - val_loss: 0.1847 - val_accuracy: 0.9531\n",
      "Epoch 34/50\n",
      "68/68 [==============================] - 72s 1s/step - loss: 0.0844 - accuracy: 0.9707 - val_loss: 0.1778 - val_accuracy: 0.9665\n",
      "Epoch 35/50\n",
      "68/68 [==============================] - 72s 1s/step - loss: 0.0881 - accuracy: 0.9697 - val_loss: 0.3513 - val_accuracy: 0.9118\n",
      "Epoch 36/50\n",
      "68/68 [==============================] - 71s 1s/step - loss: 0.0807 - accuracy: 0.9704 - val_loss: 0.2342 - val_accuracy: 0.9536\n",
      "Epoch 37/50\n",
      "68/68 [==============================] - 71s 1s/step - loss: 0.1012 - accuracy: 0.9661 - val_loss: 0.2784 - val_accuracy: 0.9338\n",
      "Epoch 38/50\n",
      "68/68 [==============================] - 72s 1s/step - loss: 0.0785 - accuracy: 0.9715 - val_loss: 0.1351 - val_accuracy: 0.9743\n",
      "Epoch 39/50\n",
      "68/68 [==============================] - 71s 1s/step - loss: 0.0874 - accuracy: 0.9693 - val_loss: 0.1393 - val_accuracy: 0.9697\n",
      "Epoch 40/50\n",
      "68/68 [==============================] - 72s 1s/step - loss: 0.0716 - accuracy: 0.9739 - val_loss: 0.2578 - val_accuracy: 0.9343\n",
      "Epoch 41/50\n",
      "68/68 [==============================] - 72s 1s/step - loss: 0.0715 - accuracy: 0.9746 - val_loss: 0.3685 - val_accuracy: 0.9187\n",
      "Epoch 42/50\n",
      "68/68 [==============================] - 71s 1s/step - loss: 0.0920 - accuracy: 0.9692 - val_loss: 0.1782 - val_accuracy: 0.9573\n",
      "Epoch 43/50\n",
      "68/68 [==============================] - 72s 1s/step - loss: 0.0723 - accuracy: 0.9758 - val_loss: 0.1831 - val_accuracy: 0.9646\n",
      "Epoch 44/50\n",
      "68/68 [==============================] - 72s 1s/step - loss: 0.0794 - accuracy: 0.9752 - val_loss: 0.1342 - val_accuracy: 0.9812\n",
      "Epoch 45/50\n",
      "68/68 [==============================] - 72s 1s/step - loss: 0.0594 - accuracy: 0.9785 - val_loss: 0.1632 - val_accuracy: 0.9522\n",
      "Epoch 46/50\n",
      "68/68 [==============================] - 71s 1s/step - loss: 0.0529 - accuracy: 0.9809 - val_loss: 0.8446 - val_accuracy: 0.8699\n",
      "Epoch 47/50\n",
      "68/68 [==============================] - 75s 1s/step - loss: 0.1059 - accuracy: 0.9634 - val_loss: 0.1678 - val_accuracy: 0.9614\n",
      "Epoch 48/50\n",
      "68/68 [==============================] - 72s 1s/step - loss: 0.0732 - accuracy: 0.9734 - val_loss: 0.0819 - val_accuracy: 0.9752\n",
      "Epoch 49/50\n",
      "68/68 [==============================] - 72s 1s/step - loss: 0.0988 - accuracy: 0.9639 - val_loss: 0.0905 - val_accuracy: 0.9665\n",
      "Epoch 50/50\n",
      "68/68 [==============================] - 72s 1s/step - loss: 0.0735 - accuracy: 0.9758 - val_loss: 0.1493 - val_accuracy: 0.9637\n"
     ]
    }
   ],
   "source": [
    "history = model.fit(train_generator,\n",
    "                    epochs=50,\n",
    "                    steps_per_epoch=68,\n",
    "                    validation_data=validation_generator,\n",
    "                    validation_steps=17,\n",
    "                    verbose=1)"
   ]
  },
  {
   "cell_type": "code",
   "execution_count": 29,
   "id": "controlling-attraction",
   "metadata": {},
   "outputs": [
    {
     "data": {
      "text/plain": [
       "Text(0.5, 1.0, 'Training and validation loss')"
      ]
     },
     "execution_count": 29,
     "metadata": {},
     "output_type": "execute_result"
    },
    {
     "data": {
      "image/png": "[encoded data removed]",
      "text/plain": [
       "<Figure size 432x288 with 1 Axes>"
      ]
     },
     "metadata": {
      "needs_background": "light"
     },
     "output_type": "display_data"
    },
    {
     "data": {
      "image/png": "[encoded data removed]",
      "text/plain": [
       "<Figure size 432x288 with 1 Axes>"
      ]
     },
     "metadata": {
      "needs_background": "light"
     },
     "output_type": "display_data"
    }
   ],
   "source": [
    "acc=history.history['accuracy']\n",
    "val_acc=history.history['val_accuracy']\n",
    "loss=history.history['loss']\n",
    "val_loss=history.history['val_loss']\n",
    "\n",
    "epochs=range(len(acc)) \n",
    "\n",
    "plt.plot(epochs, acc, 'r', label=\"Training Accuracy\")\n",
    "plt.plot(epochs, val_acc, 'b', label=\"Validation Accuracy\")\n",
    "plt.xlabel('Epochs')\n",
    "plt.legend()\n",
    "plt.title('Training and validation accuracy')\n",
    "plt.figure()\n",
    "\n",
    "plt.plot(epochs, loss, 'r', label=\"Training Loss\")\n",
    "plt.plot(epochs, val_loss, 'b', label=\"Validation Loss\")\n",
    "plt.xlabel('Epochs')\n",
    "plt.legend()\n",
    "plt.title('Training and validation loss')"
   ]
  },
  {
   "cell_type": "code",
   "execution_count": 31,
   "id": "excellent-sight",
   "metadata": {},
   "outputs": [],
   "source": [
    "model.save('trained_model.h5')"
   ]
  },
  {
   "cell_type": "code",
   "execution_count": 34,
   "id": "peripheral-aluminum",
   "metadata": {},
   "outputs": [
    {
     "data": {
      "image/png": "[encoded data removed]",
      "text/plain": [
       "<Figure size 432x288 with 1 Axes>"
      ]
     },
     "metadata": {
      "needs_background": "light"
     },
     "output_type": "display_data"
    },
    {
     "data": {
      "image/png": "[encoded data removed]",
      "text/plain": [
       "<Figure size 432x288 with 1 Axes>"
      ]
     },
     "metadata": {
      "needs_background": "light"
     },
     "output_type": "display_data"
    }
   ],
   "source": [
    "plt.plot(history.history['loss'])\n",
    "plt.plot(history.history['val_loss'])\n",
    "plt.title('Classifier Loss')\n",
    "plt.ylabel('Loss')\n",
    "plt.xlabel('Epoch')\n",
    "plt.legend(['Train','Validation'],loc='upper right')\n",
    "plt.show()\n",
    "\n",
    "plt.plot(history.history['accuracy'])\n",
    "plt.plot(history.history['val_accuracy'])\n",
    "plt.title('Classifier Accuracy')\n",
    "plt.ylabel('Accuracy')\n",
    "plt.xlabel('Epoch')\n",
    "plt.legend(['Train','Validation'],loc='upper left')\n",
    "plt.show()"
   ]
  },
  {
   "cell_type": "code",
   "execution_count": 5,
   "id": "korean-bullet",
   "metadata": {},
   "outputs": [],
   "source": [
    "from sklearn.metrics import roc_curve, auc\n",
    "from sklearn.metrics import classification_report, confusion_matrix"
   ]
  },
  {
   "cell_type": "code",
   "execution_count": null,
   "id": "incorporated-commissioner",
   "metadata": {},
   "outputs": [],
   "source": []
  },
  {
   "cell_type": "code",
   "execution_count": 7,
   "id": "cloudy-notification",
   "metadata": {},
   "outputs": [
    {
     "name": "stdout",
     "output_type": "stream",
     "text": [
      "{'Tomato_Bacterial_spot': 0, 'Tomato_Early_blight': 1, 'Tomato_Late_blight': 2, 'Tomato_Leaf_Mold': 3, 'Tomato_Yellow_Leaf_Curl_Virus': 4, 'Tomato_healthy': 5}\n"
     ]
    }
   ],
   "source": [
    "labels = train_generator.class_indices\n",
    "print(labels)"
   ]
  },
  {
   "cell_type": "code",
   "execution_count": 1,
   "id": "accompanied-pension",
   "metadata": {},
   "outputs": [
    {
     "ename": "NameError",
     "evalue": "name 'validation_generator' is not defined",
     "output_type": "error",
     "traceback": [
      "\u001b[0;31m---------------------------------------------------------------------------\u001b[0m",
      "\u001b[0;31mNameError\u001b[0m                                 Traceback (most recent call last)",
      "\u001b[0;32m<ipython-input-1-1a6debab3c28>\u001b[0m in \u001b[0;36m<module>\u001b[0;34m\u001b[0m\n\u001b[1;32m      2\u001b[0m \u001b[0;32mfrom\u001b[0m \u001b[0msklearn\u001b[0m \u001b[0;32mimport\u001b[0m \u001b[0mmetrics\u001b[0m\u001b[0;34m\u001b[0m\u001b[0;34m\u001b[0m\u001b[0m\n\u001b[1;32m      3\u001b[0m \u001b[0;34m\u001b[0m\u001b[0m\n\u001b[0;32m----> 4\u001b[0;31m \u001b[0mx\u001b[0m\u001b[0;34m,\u001b[0m \u001b[0my\u001b[0m \u001b[0;34m=\u001b[0m \u001b[0mvalidation_generator\u001b[0m\u001b[0;34m.\u001b[0m\u001b[0mnext\u001b[0m\u001b[0;34m(\u001b[0m\u001b[0;34m)\u001b[0m\u001b[0;34m\u001b[0m\u001b[0;34m\u001b[0m\u001b[0m\n\u001b[0m\u001b[1;32m      5\u001b[0m \u001b[0mprediction\u001b[0m \u001b[0;34m=\u001b[0m \u001b[0mmodel\u001b[0m\u001b[0;34m.\u001b[0m\u001b[0mpredict\u001b[0m\u001b[0;34m(\u001b[0m\u001b[0mx\u001b[0m\u001b[0;34m)\u001b[0m\u001b[0;34m\u001b[0m\u001b[0;34m\u001b[0m\u001b[0m\n\u001b[1;32m      6\u001b[0m \u001b[0;34m\u001b[0m\u001b[0m\n",
      "\u001b[0;31mNameError\u001b[0m: name 'validation_generator' is not defined"
     ]
    }
   ],
   "source": [
    "import numpy as np\n",
    "from sklearn import metrics\n",
    "\n",
    "x, y = validation_generator.next()\n",
    "prediction = model.predict(x)\n",
    "\n",
    "predict_label1 = np.argmax(prediction, axis=-1)\n",
    "true_label1 = np.argmax(y, axis=-1)\n",
    "\n",
    "y = np.array(true_label1)\n",
    "\n",
    "scores = np.array(predict_label1)\n",
    "fpr, tpr, thresholds = metrics.roc_curve(y, scores, pos_label=9)\n",
    "roc_auc = metrics.auc(fpr, tpr)\n",
    "\n",
    "\n",
    "plt.figure()\n",
    "lw = 2\n",
    "plt.plot(fpr, tpr, color='darkorange',\n",
    "lw=lw, label='ROC curve (area = %0.2f)' % roc_auc)\n",
    "plt.plot([0, 1], [0, 1], color='navy', lw=lw, linestyle='--')\n",
    "plt.xlim([0.0, 1.0])\n",
    "plt.ylim([0.0, 1.05])\n",
    "plt.xlabel('False Positive Rate')\n",
    "plt.ylabel('True Positive Rate')\n",
    "plt.title('Receiver operating characteristic (ROC)')\n",
    "plt.legend(loc=\"lower right\")\n",
    "plt.show()"
   ]
  },
  {
   "cell_type": "code",
   "execution_count": null,
   "id": "imperial-farming",
   "metadata": {},
   "outputs": [],
   "source": []
  },
  {
   "cell_type": "code",
   "execution_count": null,
   "id": "bright-tsunami",
   "metadata": {},
   "outputs": [],
   "source": []
  }
 ],
 "metadata": {
  "kernelspec": {
   "display_name": "project",
   "language": "python",
   "name": "project"
  },
  "language_info": {
   "codemirror_mode": {
    "name": "ipython",
    "version": 3
   },
   "file_extension": ".py",
   "mimetype": "text/x-python",
   "name": "python",
   "nbconvert_exporter": "python",
   "pygments_lexer": "ipython3",
   "version": "3.8.6"
  }
 },
 "nbformat": 4,
 "nbformat_minor": 5
}
